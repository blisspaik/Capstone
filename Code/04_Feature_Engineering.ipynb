{
 "cells": [
  {
   "cell_type": "markdown",
   "metadata": {},
   "source": [
    "# Feature Engineering"
   ]
  },
  {
   "cell_type": "markdown",
   "metadata": {},
   "source": [
    "For preprocessing, I add daylight and nighttime as features using sunrise and sunset. I obtained this data by scraping [TimeandDate](https://www.timeanddate.com/sun/usa/chicago?month=12&year=2017), and read in the data as a csv. I calculate the rolling day averages and sums for certain weather features to evaluate whether previous weather knowledge will have an effect on predicting crime. Lastly, I bootstrap using the module SMOTEEN in order to balance my classes."
   ]
  },
  {
   "cell_type": "markdown",
   "metadata": {},
   "source": [
    "## Importing python libraries and dataframes"
   ]
  },
  {
   "cell_type": "code",
   "execution_count": 11,
   "metadata": {},
   "outputs": [],
   "source": [
    "import pandas as pd\n",
    "import numpy as np\n",
    "import seaborn as sns\n",
    "import matplotlib.pyplot as plt\n",
    "%matplotlib inline\n",
    "import pickle\n",
    "import warnings\n",
    "warnings.filterwarnings('ignore')"
   ]
  },
  {
   "cell_type": "code",
   "execution_count": 2,
   "metadata": {},
   "outputs": [],
   "source": [
    "train_df = pd.read_csv('../Data/train_df.csv', index_col=0)\n",
    "test_df = pd.read_csv('../Data/test_df.csv', index_col=0)"
   ]
  },
  {
   "cell_type": "markdown",
   "metadata": {},
   "source": [
    "## Adding Daylight as a feature"
   ]
  },
  {
   "cell_type": "code",
   "execution_count": 3,
   "metadata": {
    "scrolled": true
   },
   "outputs": [],
   "source": [
    "daylight_2016 = pd.read_csv('../Data/daylight_2016.csv')\n",
    "daylight_2017 = pd.read_csv('../Data/daylight_2017.csv')\n",
    "daylight_2017.drop(['Unnamed: 5', 'Unnamed: 6', 'Unnamed: 7'], 1, inplace=True)"
   ]
  },
  {
   "cell_type": "markdown",
   "metadata": {},
   "source": [
    "Because of the manner of the web scraping, I have to clean up the 2017 data by dropping empty columns (Unnamed) and useless nulls that resulted from mismatched indices. I also need to add year, month, and day to the daylight data so that we could merge on these features."
   ]
  },
  {
   "cell_type": "code",
   "execution_count": 4,
   "metadata": {},
   "outputs": [],
   "source": [
    "for df in [daylight_2016, daylight_2017]:\n",
    "    df['date'] = pd.to_datetime(df['date'])\n",
    "    df.set_index(df['date'],inplace=True)\n",
    "    df.drop(columns='date', inplace=True)\n",
    "    df.dropna(inplace=True)\n",
    "    df[['sunrise', 'sunset']] = df[['sunrise', 'sunset']].astype('int')\n",
    "    dates = df.index\n",
    "    df['mo'] = df.index.map(lambda dates: dates.month)\n",
    "    df['a_year'] = df.index.map(lambda dates: dates.year)\n",
    "    df['da'] = df.index.map(lambda dates: dates.day) "
   ]
  },
  {
   "cell_type": "code",
   "execution_count": 5,
   "metadata": {},
   "outputs": [
    {
     "data": {
      "text/html": [
       "<div>\n",
       "<style scoped>\n",
       "    .dataframe tbody tr th:only-of-type {\n",
       "        vertical-align: middle;\n",
       "    }\n",
       "\n",
       "    .dataframe tbody tr th {\n",
       "        vertical-align: top;\n",
       "    }\n",
       "\n",
       "    .dataframe thead th {\n",
       "        text-align: right;\n",
       "    }\n",
       "</style>\n",
       "<table border=\"1\" class=\"dataframe\">\n",
       "  <thead>\n",
       "    <tr style=\"text-align: right;\">\n",
       "      <th></th>\n",
       "      <th>sunrise</th>\n",
       "      <th>sunset</th>\n",
       "      <th>daylight</th>\n",
       "      <th>nighttime</th>\n",
       "      <th>mo</th>\n",
       "      <th>a_year</th>\n",
       "      <th>da</th>\n",
       "    </tr>\n",
       "    <tr>\n",
       "      <th>date</th>\n",
       "      <th></th>\n",
       "      <th></th>\n",
       "      <th></th>\n",
       "      <th></th>\n",
       "      <th></th>\n",
       "      <th></th>\n",
       "      <th></th>\n",
       "    </tr>\n",
       "  </thead>\n",
       "  <tbody>\n",
       "    <tr>\n",
       "      <th>2017-01-01</th>\n",
       "      <td>718</td>\n",
       "      <td>1630</td>\n",
       "      <td>9.12</td>\n",
       "      <td>14.88</td>\n",
       "      <td>1</td>\n",
       "      <td>2017</td>\n",
       "      <td>1</td>\n",
       "    </tr>\n",
       "    <tr>\n",
       "      <th>2017-01-02</th>\n",
       "      <td>718</td>\n",
       "      <td>1631</td>\n",
       "      <td>9.13</td>\n",
       "      <td>14.87</td>\n",
       "      <td>1</td>\n",
       "      <td>2017</td>\n",
       "      <td>2</td>\n",
       "    </tr>\n",
       "    <tr>\n",
       "      <th>2017-01-03</th>\n",
       "      <td>718</td>\n",
       "      <td>1632</td>\n",
       "      <td>9.14</td>\n",
       "      <td>14.86</td>\n",
       "      <td>1</td>\n",
       "      <td>2017</td>\n",
       "      <td>3</td>\n",
       "    </tr>\n",
       "    <tr>\n",
       "      <th>2017-01-04</th>\n",
       "      <td>718</td>\n",
       "      <td>1633</td>\n",
       "      <td>9.15</td>\n",
       "      <td>14.85</td>\n",
       "      <td>1</td>\n",
       "      <td>2017</td>\n",
       "      <td>4</td>\n",
       "    </tr>\n",
       "    <tr>\n",
       "      <th>2017-01-05</th>\n",
       "      <td>718</td>\n",
       "      <td>1634</td>\n",
       "      <td>9.16</td>\n",
       "      <td>14.84</td>\n",
       "      <td>1</td>\n",
       "      <td>2017</td>\n",
       "      <td>5</td>\n",
       "    </tr>\n",
       "  </tbody>\n",
       "</table>\n",
       "</div>"
      ],
      "text/plain": [
       "            sunrise  sunset  daylight  nighttime  mo  a_year  da\n",
       "date                                                            \n",
       "2017-01-01      718    1630      9.12      14.88   1    2017   1\n",
       "2017-01-02      718    1631      9.13      14.87   1    2017   2\n",
       "2017-01-03      718    1632      9.14      14.86   1    2017   3\n",
       "2017-01-04      718    1633      9.15      14.85   1    2017   4\n",
       "2017-01-05      718    1634      9.16      14.84   1    2017   5"
      ]
     },
     "execution_count": 5,
     "metadata": {},
     "output_type": "execute_result"
    }
   ],
   "source": [
    "daylight_2017.head()"
   ]
  },
  {
   "cell_type": "markdown",
   "metadata": {},
   "source": [
    "## Merging daylight data to train and test"
   ]
  },
  {
   "cell_type": "code",
   "execution_count": 6,
   "metadata": {},
   "outputs": [],
   "source": [
    "train_df = train_df.merge(daylight_2016, on = ['mo', 'a_year', 'da'])\n",
    "test_df = test_df.merge(daylight_2017, on = ['mo', 'a_year', 'da'])"
   ]
  },
  {
   "cell_type": "markdown",
   "metadata": {},
   "source": [
    "## Plotting Daylight and Nighttime"
   ]
  },
  {
   "cell_type": "code",
   "execution_count": 7,
   "metadata": {
    "scrolled": true
   },
   "outputs": [],
   "source": [
    "monthly_2016 = train_df.groupby('mo').mean()\n",
    "monthly_2017 = test_df.groupby('mo').mean()"
   ]
  },
  {
   "cell_type": "code",
   "execution_count": 12,
   "metadata": {},
   "outputs": [
    {
     "data": {
      "image/png": "[encoded data removed]",
      "text/plain": [
       "<Figure size 936x1080 with 1 Axes>"
      ]
     },
     "metadata": {},
     "output_type": "display_data"
    },
    {
     "data": {
      "image/png": "[encoded data removed]",
      "text/plain": [
       "<Figure size 792x864 with 1 Axes>"
      ]
     },
     "metadata": {},
     "output_type": "display_data"
    }
   ],
   "source": [
    "fig, ax = plt.subplots(figsize = (13, 15))\n",
    "plt.figure(1)         \n",
    "plt.subplot(211)            \n",
    "plt.plot(monthly_2016['daylight'], marker = 'o', c = 'r', label = 2016)\n",
    "plt.subplot(211)\n",
    "plt.plot(monthly_2017['daylight'], marker = 'o', c = 'b', label = 2017)\n",
    "sns.despine()\n",
    "plt.ylabel('Number of Hours',fontsize=15)\n",
    "plt.xticks([])\n",
    "plt.yticks(fontsize = 15)\n",
    "plt.title('Average Daylight per Month', fontsize=20)\n",
    "plt.legend(fontsize = 12)\n",
    "\n",
    "fig, ax = plt.subplots(figsize = (11, 12))\n",
    "plt.figure(2)         \n",
    "plt.subplot(211)            \n",
    "plt.plot(monthly_2016['nighttime'], marker = 'o', c = 'r', label = 2016)\n",
    "plt.subplot(211)\n",
    "plt.plot(monthly_2017['nighttime'], marker = 'o', c = 'b', label = 2017)\n",
    "sns.despine()\n",
    "plt.xlabel('Month',fontsize=15)\n",
    "plt.ylabel('Number of Hours',fontsize=15)\n",
    "plt.xticks(ha='right', fontsize=15)\n",
    "plt.yticks(fontsize = 15)\n",
    "plt.title('Average Nighttime per Month', fontsize=20)\n",
    "plt.legend(fontsize = 12)\n",
    "plt.tight_layout();"
   ]
  },
  {
   "cell_type": "markdown",
   "metadata": {},
   "source": [
    "We can see consistent daylight and nighttime hour durations for 2016 and 2017."
   ]
  },
  {
   "cell_type": "markdown",
   "metadata": {},
   "source": [
    "## Rolling Day Averages and Sums"
   ]
  },
  {
   "cell_type": "markdown",
   "metadata": {},
   "source": [
    "I will find the 7 day rolling averages for non-binary features, and the 7 day rolling sums for the binary features. I am choosing the weather features that I feel will be the most indicative of predicting crime. These are precipitation, temperature, daylight, rain drizzle, and snow."
   ]
  },
  {
   "cell_type": "code",
   "execution_count": 13,
   "metadata": {},
   "outputs": [],
   "source": [
    "for df in [train_df, test_df]:\n",
    "    df['prev_7_day_avg_Precip'] = df['a_prcp'].rolling(7).mean()\n",
    "    df['prev_7_day_avg_Temp'] = df['a_temp'].rolling(7).mean()\n",
    "    df['prev_7_day_avg_Daylight'] = df['daylight'].rolling(7).mean()\n",
    "    df['prev_7_day_Rain_drizzle'] = df['a_rain_drizzle'].rolling(7).sum()\n",
    "    df['prev_7_day_Snow'] = df['a_snow_ice_pellets'].rolling(7).sum()"
   ]
  },
  {
   "cell_type": "markdown",
   "metadata": {},
   "source": [
    "## Assigning X_train and y_train"
   ]
  },
  {
   "cell_type": "markdown",
   "metadata": {},
   "source": [
    "When assigning X and y, it is important to slice the dataframes so that we are not including any NaN's in our data for modeling."
   ]
  },
  {
   "cell_type": "code",
   "execution_count": 14,
   "metadata": {
    "scrolled": true
   },
   "outputs": [],
   "source": [
    "X_train = train_df.drop(['date', 'target'], 1).iloc[7:, :]\n",
    "y_train = train_df['target'].iloc[7:]"
   ]
  },
  {
   "cell_type": "markdown",
   "metadata": {},
   "source": [
    "## Assigning X_test and y_test"
   ]
  },
  {
   "cell_type": "code",
   "execution_count": 15,
   "metadata": {},
   "outputs": [],
   "source": [
    "X_test = test_df.drop(['date', 'target'], 1).iloc[7:, :]\n",
    "y_test = test_df[['target']].iloc[7:]"
   ]
  },
  {
   "cell_type": "markdown",
   "metadata": {},
   "source": [
    "## Bootstrapping train data using SMOTEENN"
   ]
  },
  {
   "cell_type": "markdown",
   "metadata": {},
   "source": [
    "`SMOTEENN` is an imbalanced-learn module that utilizes both oversampling and undersampling methods. It returns a sliced subset of the data as an array where row values are based on a random sampling algorithm. I will fit `X_train` and `y_train` on the `SMOTEENN` model in order to get balanced classes."
   ]
  },
  {
   "cell_type": "code",
   "execution_count": 16,
   "metadata": {},
   "outputs": [],
   "source": [
    "from imblearn.combine import SMOTEENN\n",
    "\n",
    "sme = SMOTEENN()\n",
    "X_res, y_res = sme.fit_sample(X_train, y_train)"
   ]
  },
  {
   "cell_type": "code",
   "execution_count": 17,
   "metadata": {},
   "outputs": [
    {
     "data": {
      "text/plain": [
       "1.0    0.500265\n",
       "0.0    0.499735\n",
       "dtype: float64"
      ]
     },
     "execution_count": 17,
     "metadata": {},
     "output_type": "execute_result"
    }
   ],
   "source": [
    "pd.Series(y_res).value_counts(normalize = True)"
   ]
  },
  {
   "cell_type": "markdown",
   "metadata": {},
   "source": [
    "We can see that the classes are evenly balanced!"
   ]
  },
  {
   "cell_type": "code",
   "execution_count": 18,
   "metadata": {
    "scrolled": false
   },
   "outputs": [
    {
     "data": {
      "text/plain": [
       "((3469102, 24), (3469102,))"
      ]
     },
     "execution_count": 18,
     "metadata": {},
     "output_type": "execute_result"
    }
   ],
   "source": [
    "pd.DataFrame(X_res).shape, pd.Series(y_res).shape"
   ]
  },
  {
   "cell_type": "markdown",
   "metadata": {},
   "source": [
    "## Putting bootstrapped values into train and test dataframes"
   ]
  },
  {
   "cell_type": "code",
   "execution_count": 19,
   "metadata": {},
   "outputs": [],
   "source": [
    "train = pd.DataFrame(X_res, columns=X_train.columns)\n",
    "train['target'] = y_res"
   ]
  },
  {
   "cell_type": "code",
   "execution_count": 20,
   "metadata": {
    "scrolled": true
   },
   "outputs": [
    {
     "data": {
      "text/plain": [
       "(3469102, 25)"
      ]
     },
     "execution_count": 20,
     "metadata": {},
     "output_type": "execute_result"
    }
   ],
   "source": [
    "train.shape"
   ]
  },
  {
   "cell_type": "code",
   "execution_count": 22,
   "metadata": {
    "scrolled": true
   },
   "outputs": [],
   "source": [
    "test = pd.DataFrame(X_test, columns=X_train.columns)\n",
    "test['target'] = y_test"
   ]
  },
  {
   "cell_type": "code",
   "execution_count": 23,
   "metadata": {},
   "outputs": [
    {
     "data": {
      "text/plain": [
       "(2403344, 25)"
      ]
     },
     "execution_count": 23,
     "metadata": {},
     "output_type": "execute_result"
    }
   ],
   "source": [
    "test.shape"
   ]
  },
  {
   "cell_type": "code",
   "execution_count": 25,
   "metadata": {},
   "outputs": [],
   "source": [
    "for df in [train, test]:\n",
    "    df.sort_values(['a_year', 'mo', 'da', 'hr', 'beat_label'], inplace=True)"
   ]
  },
  {
   "cell_type": "markdown",
   "metadata": {},
   "source": [
    "By putting the train and test data into dataframes, I can sort each one by year, month, day, hour, and beat. These are my final dataframes that are ready for modeling."
   ]
  },
  {
   "cell_type": "markdown",
   "metadata": {},
   "source": [
    "## Saving dataframes"
   ]
  },
  {
   "cell_type": "code",
   "execution_count": 26,
   "metadata": {},
   "outputs": [],
   "source": [
    "train.to_csv('../Data/train.csv', index = False)\n",
    "test.to_csv('../Data/test.csv', index = False)"
   ]
  },
  {
   "cell_type": "markdown",
   "metadata": {},
   "source": [
    "## Pickling columns for modeling"
   ]
  },
  {
   "cell_type": "code",
   "execution_count": 27,
   "metadata": {},
   "outputs": [],
   "source": [
    "with open('../Assets/columns.pkl', 'wb+') as f:\n",
    "    pickle.dump(list(X_train.columns), f)"
   ]
  }
 ],
 "metadata": {
  "kernelspec": {
   "display_name": "Python 3",
   "language": "python",
   "name": "python3"
  },
  "language_info": {
   "codemirror_mode": {
    "name": "ipython",
    "version": 3
   },
   "file_extension": ".py",
   "mimetype": "text/x-python",
   "name": "python",
   "nbconvert_exporter": "python",
   "pygments_lexer": "ipython3",
   "version": "3.6.5"
  }
 },
 "nbformat": 4,
 "nbformat_minor": 2
}

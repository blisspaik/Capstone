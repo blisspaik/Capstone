{
 "cells": [
  {
   "cell_type": "markdown",
   "metadata": {},
   "source": [
    "# Random Forest"
   ]
  },
  {
   "cell_type": "markdown",
   "metadata": {},
   "source": [
    "I fit a random forest classification model in order to predict whether a crime occurred in Chicago in 2017. Like logistic regression, I use a pipeline and grid search in order to get the highest accuracy score I can. I found that this model has 98% accuracy on the training data, but 43% accuracy on test data."
   ]
  },
  {
   "cell_type": "markdown",
   "metadata": {},
   "source": [
    "## Importing python libraries and dataframes"
   ]
  },
  {
   "cell_type": "code",
   "execution_count": 27,
   "metadata": {},
   "outputs": [],
   "source": [
    "import pandas as pd\n",
    "import numpy as np\n",
    "import matplotlib.pyplot as plt\n",
    "import seaborn as sns\n",
    "%matplotlib inline\n",
    "from sklearn.preprocessing import StandardScaler\n",
    "from sklearn.model_selection import TimeSeriesSplit, GridSearchCV\n",
    "from sklearn.metrics import confusion_matrix, classification_report\n",
    "from sklearn.ensemble import RandomForestClassifier\n",
    "from sklearn.pipeline import Pipeline\n",
    "import pickle\n",
    "import warnings\n",
    "warnings.filterwarnings('ignore')"
   ]
  },
  {
   "cell_type": "code",
   "execution_count": 2,
   "metadata": {},
   "outputs": [],
   "source": [
    "X_train = pd.read_csv('../Data/X_train.csv', index_col=0)\n",
    "y_train = pd.read_csv('../Data/y_train.csv', index_col=0)\n",
    "X_test = pd.read_csv('../Data/X_test.csv', index_col=0)\n",
    "y_test = pd.read_csv('../Data/y_test.csv', index_col=0)"
   ]
  },
  {
   "cell_type": "code",
   "execution_count": 24,
   "metadata": {},
   "outputs": [],
   "source": [
    "with open('../Assets/columns.pkl', 'rb') as f:\n",
    "    columns = pickle.load(f)"
   ]
  },
  {
   "cell_type": "markdown",
   "metadata": {},
   "source": [
    "## Modeling"
   ]
  },
  {
   "cell_type": "markdown",
   "metadata": {},
   "source": [
    "Random Forest is the most commonly used ensemble learning method due to both its simplicity and multifunctionality as a regression or classification model. It aims to control for the overfitting present in simple decision trees by fitting multiple trees using a random subset of the feature space. Because it utilizes multiple decision trees, it contains a wide diversity that generally results in a better model. \n",
    "\n",
    "I use I use pipeline so that I can scale my data and instantiate the model in one step, then use grid search so that I can tune hyperparameters in order to optimize my accuracy score. Let's see how this model performs in predicting crime in 2017."
   ]
  },
  {
   "cell_type": "code",
   "execution_count": 4,
   "metadata": {},
   "outputs": [],
   "source": [
    "pipe = Pipeline([\n",
    "    ('scaler', StandardScaler()),\n",
    "    ('rf', RandomForestClassifier())\n",
    "])"
   ]
  },
  {
   "cell_type": "code",
   "execution_count": 5,
   "metadata": {},
   "outputs": [],
   "source": [
    "params= {\n",
    "    'rf__n_estimators': [80, 100], \n",
    "    'rf__max_depth': [60, 90],\n",
    "    'rf__min_samples_split': [2, 3],\n",
    "    'rf__min_samples_leaf': [3, 5],\n",
    "}"
   ]
  },
  {
   "cell_type": "code",
   "execution_count": 6,
   "metadata": {
    "scrolled": true
   },
   "outputs": [
    {
     "data": {
      "text/plain": [
       "GridSearchCV(cv=TimeSeriesSplit(max_train_size=None, n_splits=5),\n",
       "       error_score='raise-deprecating',\n",
       "       estimator=Pipeline(memory=None,\n",
       "     steps=[('scaler', StandardScaler(copy=True, with_mean=True, with_std=True)), ('rf', RandomForestClassifier(bootstrap=True, class_weight=None, criterion='gini',\n",
       "            max_depth=None, max_features='auto', max_leaf_nodes=None,\n",
       "            min_impurity_decrease=0.0, min_impurity_split=None,\n",
       "      ...obs=None,\n",
       "            oob_score=False, random_state=None, verbose=0,\n",
       "            warm_start=False))]),\n",
       "       fit_params=None, iid='warn', n_jobs=None,\n",
       "       param_grid={'rf__n_estimators': [80, 100], 'rf__max_depth': [60, 90], 'rf__min_samples_split': [2, 3], 'rf__min_samples_leaf': [3, 5]},\n",
       "       pre_dispatch='2*n_jobs', refit=True, return_train_score='warn',\n",
       "       scoring=None, verbose=0)"
      ]
     },
     "execution_count": 6,
     "metadata": {},
     "output_type": "execute_result"
    }
   ],
   "source": [
    "RandFor = GridSearchCV(pipe, param_grid = params, cv = TimeSeriesSplit(5))\n",
    "RandFor.fit(X_train, y_train)"
   ]
  },
  {
   "cell_type": "code",
   "execution_count": 7,
   "metadata": {
    "scrolled": true
   },
   "outputs": [
    {
     "name": "stdout",
     "output_type": "stream",
     "text": [
      "The value for rf__max_depth that had the highest accuracy score is 90\n",
      "The value for rf__min_samples_leaf that had the highest accuracy score is 3\n",
      "The value for rf__min_samples_split that had the highest accuracy score is 3\n",
      "The value for rf__n_estimators that had the highest accuracy score is 80\n"
     ]
    }
   ],
   "source": [
    "for params in RandFor.best_params_:\n",
    "    print('The value for',params,'that had the highest accuracy score is',RandFor.best_params_[params])"
   ]
  },
  {
   "cell_type": "markdown",
   "metadata": {},
   "source": [
    "For the parameters:\n",
    "\n",
    "* max_depth can be set to an integer to represent how many nodes to split on. If this is set to None, then the model will split the nodes until we get a pure node. Our model chose 90 as the optimal number of nodes to split on. \n",
    "* min_samples_leaf states that the minimum number of samples required to be at a leaf node is 3. This number has to be an integer.\n",
    "* the min_samples_split represents the minimum number of samples required to split an internal node. This number can be a float or integer. Our model chose 3 as its optimal value.\n",
    "* n_estimators represents the number of trees we want to use in this model. The optimal amount of trees that our grid search chose was 80. "
   ]
  },
  {
   "cell_type": "code",
   "execution_count": 8,
   "metadata": {},
   "outputs": [
    {
     "name": "stdout",
     "output_type": "stream",
     "text": [
      "The training score of the model is 0.9884652474172861\n",
      "The testing score of the model is 0.4318690957266209\n"
     ]
    }
   ],
   "source": [
    "print('The training score of the model is',RandFor.score(X_train, y_train))\n",
    "print('The testing score of the model is',RandFor.score(X_test, y_test))"
   ]
  },
  {
   "cell_type": "markdown",
   "metadata": {},
   "source": [
    "Our model can accurately predict 98% of all crime occurrences in 2016. However, for the crime instances for 2017, the model was able to accurately predict only 43% of all instances. The training score has a very high score in comparison to the test score, indicating overfitting."
   ]
  },
  {
   "cell_type": "markdown",
   "metadata": {},
   "source": [
    "## Predict proba"
   ]
  },
  {
   "cell_type": "code",
   "execution_count": 29,
   "metadata": {},
   "outputs": [
    {
     "data": {
      "text/plain": [
       "array([[0.42740555, 0.57259445],\n",
       "       [0.4309409 , 0.5690591 ],\n",
       "       [0.43434999, 0.56565001],\n",
       "       ...,\n",
       "       [0.48005549, 0.51994451],\n",
       "       [0.49273406, 0.50726594],\n",
       "       [0.50682335, 0.49317665]])"
      ]
     },
     "execution_count": 29,
     "metadata": {},
     "output_type": "execute_result"
    }
   ],
   "source": [
    "RandFor.predict_proba(X_test)"
   ]
  },
  {
   "cell_type": "markdown",
   "metadata": {},
   "source": [
    "This probability array tells me which class each crime occurence is predicted to be in. For example, the first crime observation in my test data has a 42% chance of being in class 0, meaning that that crime is predicted to not have occurred at that time."
   ]
  },
  {
   "cell_type": "markdown",
   "metadata": {},
   "source": [
    "## Finding feature importances"
   ]
  },
  {
   "cell_type": "markdown",
   "metadata": {},
   "source": [
    "Let's look at the top 10 most important features in our model."
   ]
  },
  {
   "cell_type": "code",
   "execution_count": 30,
   "metadata": {},
   "outputs": [],
   "source": [
    "feature_importance = pd.DataFrame(RandFor.best_estimator_.named_steps['rf'].feature_importances_,index = columns, columns=['Importance'])\n",
    "rf_features = feature_importance.sort_values(by='Importance',ascending=False).head(10)"
   ]
  },
  {
   "cell_type": "code",
   "execution_count": 31,
   "metadata": {},
   "outputs": [
    {
     "data": {
      "text/html": [
       "<div>\n",
       "<style scoped>\n",
       "    .dataframe tbody tr th:only-of-type {\n",
       "        vertical-align: middle;\n",
       "    }\n",
       "\n",
       "    .dataframe tbody tr th {\n",
       "        vertical-align: top;\n",
       "    }\n",
       "\n",
       "    .dataframe thead th {\n",
       "        text-align: right;\n",
       "    }\n",
       "</style>\n",
       "<table border=\"1\" class=\"dataframe\">\n",
       "  <thead>\n",
       "    <tr style=\"text-align: right;\">\n",
       "      <th></th>\n",
       "      <th>Importance</th>\n",
       "    </tr>\n",
       "  </thead>\n",
       "  <tbody>\n",
       "    <tr>\n",
       "      <th>beat_label</th>\n",
       "      <td>0.395815</td>\n",
       "    </tr>\n",
       "    <tr>\n",
       "      <th>hr</th>\n",
       "      <td>0.324827</td>\n",
       "    </tr>\n",
       "    <tr>\n",
       "      <th>a_mxpsd</th>\n",
       "      <td>0.022381</td>\n",
       "    </tr>\n",
       "    <tr>\n",
       "      <th>a_temp</th>\n",
       "      <td>0.019930</td>\n",
       "    </tr>\n",
       "    <tr>\n",
       "      <th>da</th>\n",
       "      <td>0.019144</td>\n",
       "    </tr>\n",
       "    <tr>\n",
       "      <th>a_wdsp</th>\n",
       "      <td>0.018814</td>\n",
       "    </tr>\n",
       "    <tr>\n",
       "      <th>prev_7_day_avg_Temp</th>\n",
       "      <td>0.018408</td>\n",
       "    </tr>\n",
       "    <tr>\n",
       "      <th>a_min</th>\n",
       "      <td>0.017979</td>\n",
       "    </tr>\n",
       "    <tr>\n",
       "      <th>a_max</th>\n",
       "      <td>0.016840</td>\n",
       "    </tr>\n",
       "    <tr>\n",
       "      <th>sunset</th>\n",
       "      <td>0.015613</td>\n",
       "    </tr>\n",
       "  </tbody>\n",
       "</table>\n",
       "</div>"
      ],
      "text/plain": [
       "                     Importance\n",
       "beat_label             0.395815\n",
       "hr                     0.324827\n",
       "a_mxpsd                0.022381\n",
       "a_temp                 0.019930\n",
       "da                     0.019144\n",
       "a_wdsp                 0.018814\n",
       "prev_7_day_avg_Temp    0.018408\n",
       "a_min                  0.017979\n",
       "a_max                  0.016840\n",
       "sunset                 0.015613"
      ]
     },
     "execution_count": 31,
     "metadata": {},
     "output_type": "execute_result"
    }
   ],
   "source": [
    "rf_features"
   ]
  },
  {
   "cell_type": "markdown",
   "metadata": {},
   "source": [
    "Let's plot it for better visualization."
   ]
  },
  {
   "cell_type": "code",
   "execution_count": 32,
   "metadata": {
    "scrolled": false
   },
   "outputs": [
    {
     "data": {
      "image/png": "[encoded data removed]",
      "text/plain": [
       "<Figure size 1080x576 with 1 Axes>"
      ]
     },
     "metadata": {},
     "output_type": "display_data"
    }
   ],
   "source": [
    "f, ax = plt.subplots(figsize=(15,8))\n",
    "sns.barplot(y = rf_features[\"Importance\"],x = rf_features.index, ax=ax, color='goldenrod')\n",
    "ax.set_title(\"Feature Importance\", fontsize=25)\n",
    "ax.set_ylabel('Importance', fontsize=25)\n",
    "ax.set_xlabel('Features', fontsize=25)\n",
    "ax.set_xticklabels(['Beat', 'Hour', 'Temperature', 'Day', 'Max Temperature', 'Min Temperature', 'Windspeed', 'Max Wind Speed', \n",
    "                    'Month', 'Precipitation'], fontsize= 15, rotation=50)\n",
    "ax.tick_params(axis= 'y', labelsize=15)"
   ]
  },
  {
   "cell_type": "markdown",
   "metadata": {},
   "source": [
    "For each feature, the classifier produces a statistical measurement for how important the feature was for predicting the target variable. It scales the results so that the sum of all importance is equal to 1. \n",
    "\n",
    "Looking at our top feature, having a value of 0.3958 means almost 40% of all observations is correctly classified by the feature \"beat.\" Looking at the feature importances can give you a sense of which variables have the most effect in your model. You can also decide which features you may want to drop, a form of feature reduction, which may result in less overfitting."
   ]
  },
  {
   "cell_type": "markdown",
   "metadata": {},
   "source": [
    "## Putting predictions into confusion matrix"
   ]
  },
  {
   "cell_type": "code",
   "execution_count": 22,
   "metadata": {},
   "outputs": [],
   "source": [
    "rf_test_predictions = RandFor.predict(X_test)"
   ]
  },
  {
   "cell_type": "code",
   "execution_count": 23,
   "metadata": {},
   "outputs": [
    {
     "data": {
      "text/plain": [
       "array([[ 981850, 1333507],\n",
       "       [  31907,   56080]])"
      ]
     },
     "execution_count": 23,
     "metadata": {},
     "output_type": "execute_result"
    }
   ],
   "source": [
    "rf_cm = confusion_matrix(y_test, rf_test_predictions)\n",
    "rf_cm"
   ]
  },
  {
   "cell_type": "code",
   "execution_count": 11,
   "metadata": {},
   "outputs": [
    {
     "data": {
      "text/html": [
       "<div>\n",
       "<style scoped>\n",
       "    .dataframe tbody tr th:only-of-type {\n",
       "        vertical-align: middle;\n",
       "    }\n",
       "\n",
       "    .dataframe tbody tr th {\n",
       "        vertical-align: top;\n",
       "    }\n",
       "\n",
       "    .dataframe thead th {\n",
       "        text-align: right;\n",
       "    }\n",
       "</style>\n",
       "<table border=\"1\" class=\"dataframe\">\n",
       "  <thead>\n",
       "    <tr style=\"text-align: right;\">\n",
       "      <th></th>\n",
       "      <th>predicted no crime</th>\n",
       "      <th>predicted crime</th>\n",
       "    </tr>\n",
       "  </thead>\n",
       "  <tbody>\n",
       "    <tr>\n",
       "      <th>actual no crime</th>\n",
       "      <td>981850</td>\n",
       "      <td>1333507</td>\n",
       "    </tr>\n",
       "    <tr>\n",
       "      <th>actual crime</th>\n",
       "      <td>31907</td>\n",
       "      <td>56080</td>\n",
       "    </tr>\n",
       "  </tbody>\n",
       "</table>\n",
       "</div>"
      ],
      "text/plain": [
       "                 predicted no crime  predicted crime\n",
       "actual no crime              981850          1333507\n",
       "actual crime                  31907            56080"
      ]
     },
     "execution_count": 11,
     "metadata": {},
     "output_type": "execute_result"
    }
   ],
   "source": [
    "rf_cm_df = pd.DataFrame(rf_cm, columns=['predicted no crime', 'predicted crime'], index=['actual no crime', 'actual crime'])\n",
    "rf_cm_df"
   ]
  },
  {
   "cell_type": "code",
   "execution_count": 12,
   "metadata": {},
   "outputs": [
    {
     "name": "stdout",
     "output_type": "stream",
     "text": [
      "True Negatives: 981850\n",
      "False Positives: 1333507\n",
      "False Negatives: 31907\n",
      "True Positives: 56080\n"
     ]
    }
   ],
   "source": [
    "tn, fp, fn, tp = confusion_matrix(y_test, rf_test_predictions).ravel() \n",
    "print(\"True Negatives: %s\" % tn)\n",
    "print(\"False Positives: %s\" % fp)\n",
    "print(\"False Negatives: %s\" % fn)\n",
    "print(\"True Positives: %s\" % tp)"
   ]
  },
  {
   "cell_type": "code",
   "execution_count": 28,
   "metadata": {},
   "outputs": [
    {
     "name": "stdout",
     "output_type": "stream",
     "text": [
      "              precision    recall  f1-score   support\n",
      "\n",
      "    No Crime       0.97      0.42      0.59   2315357\n",
      "       Crime       0.04      0.64      0.08     87987\n",
      "\n",
      "   micro avg       0.43      0.43      0.43   2403344\n",
      "   macro avg       0.50      0.53      0.33   2403344\n",
      "weighted avg       0.93      0.43      0.57   2403344\n",
      "\n"
     ]
    }
   ],
   "source": [
    "print(classification_report(y_test, RandFor.predict(X_test_sc), target_names=['No Crime', 'Crime']))"
   ]
  },
  {
   "cell_type": "markdown",
   "metadata": {},
   "source": [
    "We have a high number of false positives, and a low number of false negatives. This is always a good sign due to the fact that not a lot of crimes were falsely predicted to not occur. The classification report shows that we have high sensitivity (.64), and low specificity (.42).\n",
    "\n",
    "This model had very similar results to the logistic regression model, but had slightly more false positives. It did a decent job predicting true negatives, and had more true positives than logistic regression did. However, the severe overfitting scores for this model causes me to believe that logistic regression performed better."
   ]
  }
 ],
 "metadata": {
  "kernelspec": {
   "display_name": "Python 3",
   "language": "python",
   "name": "python3"
  },
  "language_info": {
   "codemirror_mode": {
    "name": "ipython",
    "version": 3
   },
   "file_extension": ".py",
   "mimetype": "text/x-python",
   "name": "python",
   "nbconvert_exporter": "python",
   "pygments_lexer": "ipython3",
   "version": "3.6.5"
  }
 },
 "nbformat": 4,
 "nbformat_minor": 2
}

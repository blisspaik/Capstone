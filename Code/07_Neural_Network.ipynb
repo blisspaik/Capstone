{
 "cells": [
  {
   "cell_type": "markdown",
   "metadata": {},
   "source": [
    "# Neural Network"
   ]
  },
  {
   "cell_type": "markdown",
   "metadata": {},
   "source": [
    "Neural networks have the ability to pick up patterns and trends in complex data. Rather than making assumptions before fitting, this model has an adaptive learning feature that learns how to do tasks based on the data at the initial start. It should score higher in general due to its backpropagation ability that is the powerhouse of learning for this model. Our neural network model had a higher accuracy score on the train data compared to logistic regression (63%), but had about the same test accuracy score (56%). \n",
    "\n",
    "I used Keras for making the neural network, and also utilized early stopping as a regularization method in order to optimize the accuracy score. Based on how early it stopped (3 out of 10 epochs), we can say that the score can only be optimized to a small degree."
   ]
  },
  {
   "cell_type": "markdown",
   "metadata": {},
   "source": [
    "## Importing python libraries and dataframes"
   ]
  },
  {
   "cell_type": "code",
   "execution_count": 2,
   "metadata": {},
   "outputs": [],
   "source": [
    "import pandas as pd\n",
    "import numpy as np\n",
    "import matplotlib.pyplot as plt\n",
    "from sklearn.model_selection import TimeSeriesSplit\n",
    "from sklearn.preprocessing import StandardScaler\n",
    "from keras.models import Sequential\n",
    "from keras.layers import Dense\n",
    "from keras.callbacks import EarlyStopping\n",
    "from sklearn.metrics import confusion_matrix, classification_report\n",
    "import warnings\n",
    "warnings.filterwarnings('ignore')"
   ]
  },
  {
   "cell_type": "code",
   "execution_count": 2,
   "metadata": {},
   "outputs": [],
   "source": [
    "X_train = pd.read_csv('../Data/X_train.csv', index_col=0)\n",
    "y_train = pd.read_csv('../Data/y_train.csv', index_col=0)\n",
    "X_test = pd.read_csv('../Data/X_test.csv', index_col=0)\n",
    "y_test = pd.read_csv('../Data/y_test.csv', index_col=0)"
   ]
  },
  {
   "cell_type": "markdown",
   "metadata": {},
   "source": [
    "## Scaling the data"
   ]
  },
  {
   "cell_type": "code",
   "execution_count": 3,
   "metadata": {},
   "outputs": [],
   "source": [
    "ss = StandardScaler()\n",
    "X_train_sc = ss.fit_transform(X_train)\n",
    "X_test_sc = ss.transform(X_test)"
   ]
  },
  {
   "cell_type": "markdown",
   "metadata": {},
   "source": [
    "## Modeling"
   ]
  },
  {
   "cell_type": "code",
   "execution_count": 4,
   "metadata": {},
   "outputs": [],
   "source": [
    "model = Sequential()\n",
    "\n",
    "n_input = X_train_sc.shape[1]\n",
    "n_hidden = n_input\n",
    "\n",
    "model.add(Dense(n_hidden, input_dim = n_input, activation='relu'))\n",
    "model.add(Dense(1, activation='sigmoid'))\n",
    "\n",
    "early_stop = EarlyStopping(monitor='val_loss', min_delta=0, patience=0, verbose=1, mode='auto')\n",
    "\n",
    "callbacks_list = [early_stop]"
   ]
  },
  {
   "cell_type": "markdown",
   "metadata": {},
   "source": [
    "I used a relu activation function for the hidden layer, and a sigmoid function for the output layer. I also implemented early stopping to increase my accuracy score."
   ]
  },
  {
   "cell_type": "code",
   "execution_count": 5,
   "metadata": {},
   "outputs": [],
   "source": [
    "model.compile(loss='binary_crossentropy', optimizer='adam', metrics=['acc'])"
   ]
  },
  {
   "cell_type": "markdown",
   "metadata": {},
   "source": [
    "I used a binary cross entropy loss function because we are predicting on a binary output. I also implemented gradient descent for this model by utilizing an adam optimizer. Because we are looking for scores based on accuracy, that is the metric we should be setting."
   ]
  },
  {
   "cell_type": "code",
   "execution_count": 6,
   "metadata": {},
   "outputs": [
    {
     "name": "stdout",
     "output_type": "stream",
     "text": [
      "Train on 3468735 samples, validate on 2403344 samples\n",
      "Epoch 1/10\n",
      "3468735/3468735 [==============================] - 11s 3us/step - loss: 0.6621 - acc: 0.6036 - val_loss: 0.7880 - val_acc: 0.3900\n",
      "Epoch 2/10\n",
      "3468735/3468735 [==============================] - 11s 3us/step - loss: 0.6416 - acc: 0.6309 - val_loss: 0.7198 - val_acc: 0.5118\n",
      "Epoch 3/10\n",
      "3468735/3468735 [==============================] - 12s 3us/step - loss: 0.6276 - acc: 0.6438 - val_loss: 0.7636 - val_acc: 0.4638\n",
      "Epoch 00003: early stopping\n"
     ]
    }
   ],
   "source": [
    "history = model.fit(X_train_sc, y_train, validation_data=(X_test_sc, y_test), \n",
    "                        epochs=10, batch_size=717,\n",
    "                        callbacks = callbacks_list)"
   ]
  },
  {
   "cell_type": "markdown",
   "metadata": {},
   "source": [
    "We can see that early stopping capped the best possible score at 3 out of 10 epochs."
   ]
  },
  {
   "cell_type": "markdown",
   "metadata": {},
   "source": [
    "## Plotting loss"
   ]
  },
  {
   "cell_type": "code",
   "execution_count": 10,
   "metadata": {
    "scrolled": false
   },
   "outputs": [
    {
     "data": {
      "image/png": "[encoded data removed]",
      "text/plain": [
       "<Figure size 792x576 with 1 Axes>"
      ]
     },
     "metadata": {},
     "output_type": "display_data"
    }
   ],
   "source": [
    "train_loss = history.history['loss']\n",
    "test_loss = history.history['val_loss']\n",
    "\n",
    "fig, ax = plt.subplots(figsize = (11, 8))\n",
    "plt.scatter(range(1,4), train_loss, c = 'b', label='Training loss')\n",
    "plt.scatter(range(1,4), test_loss, c = 'r', label='Testing loss')\n",
    "plt.legend(fontsize = 12);"
   ]
  },
  {
   "cell_type": "markdown",
   "metadata": {},
   "source": [
    "X represents number of epochs while Y represents accuracy score values. We can see that the testing loss (red data points) is going up, while the training loss (blue points) is going down. What this demonstrates is that there is overfitting in our model (higher train score). "
   ]
  },
  {
   "cell_type": "code",
   "execution_count": 11,
   "metadata": {
    "scrolled": true
   },
   "outputs": [
    {
     "data": {
      "text/plain": [
       "(0.6437715766678879, 0.4638029348187055)"
      ]
     },
     "execution_count": 11,
     "metadata": {},
     "output_type": "execute_result"
    }
   ],
   "source": [
    "history.history['acc'][-1], history.history['val_acc'][-1]"
   ]
  },
  {
   "cell_type": "markdown",
   "metadata": {},
   "source": [
    "We can see definite evidence of overfitting based on these accuracy scores. What they tell us is that our model can accurately predict 64% of all crime occurrences in 2016. However, for the crime instances for 2017, the model was able to accurately predict only 46% of all instances."
   ]
  },
  {
   "cell_type": "markdown",
   "metadata": {},
   "source": [
    "## Putting predictions into confusion matrix"
   ]
  },
  {
   "cell_type": "markdown",
   "metadata": {},
   "source": [
    "We need to set a threshold so that the prediction outputs are in binary form. I choose .5 as the threshold so that the predictions can be equally balanced."
   ]
  },
  {
   "cell_type": "code",
   "execution_count": 12,
   "metadata": {},
   "outputs": [],
   "source": [
    "nn_predictions = model.predict(X_test_sc)\n",
    "threshold = .5\n",
    "class_preds = nn_predictions > threshold"
   ]
  },
  {
   "cell_type": "code",
   "execution_count": 13,
   "metadata": {
    "scrolled": true
   },
   "outputs": [
    {
     "data": {
      "text/plain": [
       "array([[1058692, 1256665],\n",
       "       [  32001,   55986]])"
      ]
     },
     "execution_count": 13,
     "metadata": {},
     "output_type": "execute_result"
    }
   ],
   "source": [
    "nn_cm = confusion_matrix(y_test, class_preds)\n",
    "nn_cm"
   ]
  },
  {
   "cell_type": "code",
   "execution_count": 14,
   "metadata": {},
   "outputs": [
    {
     "data": {
      "text/html": [
       "<div>\n",
       "<style scoped>\n",
       "    .dataframe tbody tr th:only-of-type {\n",
       "        vertical-align: middle;\n",
       "    }\n",
       "\n",
       "    .dataframe tbody tr th {\n",
       "        vertical-align: top;\n",
       "    }\n",
       "\n",
       "    .dataframe thead th {\n",
       "        text-align: right;\n",
       "    }\n",
       "</style>\n",
       "<table border=\"1\" class=\"dataframe\">\n",
       "  <thead>\n",
       "    <tr style=\"text-align: right;\">\n",
       "      <th></th>\n",
       "      <th>predicted no crime</th>\n",
       "      <th>predicted crime</th>\n",
       "    </tr>\n",
       "  </thead>\n",
       "  <tbody>\n",
       "    <tr>\n",
       "      <th>actual no crime</th>\n",
       "      <td>1058692</td>\n",
       "      <td>1256665</td>\n",
       "    </tr>\n",
       "    <tr>\n",
       "      <th>actual crime</th>\n",
       "      <td>32001</td>\n",
       "      <td>55986</td>\n",
       "    </tr>\n",
       "  </tbody>\n",
       "</table>\n",
       "</div>"
      ],
      "text/plain": [
       "                 predicted no crime  predicted crime\n",
       "actual no crime             1058692          1256665\n",
       "actual crime                  32001            55986"
      ]
     },
     "execution_count": 14,
     "metadata": {},
     "output_type": "execute_result"
    }
   ],
   "source": [
    "nn_cm_df = pd.DataFrame(nn_cm, columns=['predicted no crime', 'predicted crime'], index=['actual no crime', 'actual crime'])\n",
    "nn_cm_df"
   ]
  },
  {
   "cell_type": "code",
   "execution_count": 15,
   "metadata": {},
   "outputs": [
    {
     "name": "stdout",
     "output_type": "stream",
     "text": [
      "True Negatives: 1058692\n",
      "False Positives: 1256665\n",
      "False Negatives: 32001\n",
      "True Positives: 55986\n"
     ]
    }
   ],
   "source": [
    "tn, fp, fn, tp = confusion_matrix(y_test, class_preds).ravel() \n",
    "print(\"True Negatives: %s\" % tn)\n",
    "print(\"False Positives: %s\" % fp)\n",
    "print(\"False Negatives: %s\" % fn)\n",
    "print(\"True Positives: %s\" % tp)"
   ]
  },
  {
   "cell_type": "code",
   "execution_count": 22,
   "metadata": {},
   "outputs": [
    {
     "name": "stdout",
     "output_type": "stream",
     "text": [
      "              precision    recall  f1-score   support\n",
      "\n",
      "    No Crime       0.97      0.46      0.62   2315357\n",
      "       Crime       0.04      0.64      0.08     87987\n",
      "\n",
      "   micro avg       0.46      0.46      0.46   2403344\n",
      "   macro avg       0.51      0.55      0.35   2403344\n",
      "weighted avg       0.94      0.46      0.60   2403344\n",
      "\n"
     ]
    }
   ],
   "source": [
    "print(classification_report(y_test, class_preds, target_names=['No Crime', 'Crime']))"
   ]
  },
  {
   "cell_type": "markdown",
   "metadata": {},
   "source": [
    "Neural network performed about the same as the other models in predicting whether a crime occurred in Chicago in 2017. We have a high number of false positives, and low false negatives. This means that we have optimized for higher sensitivity rather than specificity. When it came to predicting positive crime occurrences, it accurately predicted a little more than half of all true crime occurences (64%)."
   ]
  }
 ],
 "metadata": {
  "kernelspec": {
   "display_name": "Python 3",
   "language": "python",
   "name": "python3"
  },
  "language_info": {
   "codemirror_mode": {
    "name": "ipython",
    "version": 3
   },
   "file_extension": ".py",
   "mimetype": "text/x-python",
   "name": "python",
   "nbconvert_exporter": "python",
   "pygments_lexer": "ipython3",
   "version": "3.6.5"
  }
 },
 "nbformat": 4,
 "nbformat_minor": 2
}
